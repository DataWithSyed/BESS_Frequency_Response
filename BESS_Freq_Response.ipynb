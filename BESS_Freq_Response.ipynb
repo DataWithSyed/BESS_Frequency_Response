{
 "cells": [
  {
   "cell_type": "code",
   "execution_count": 2,
   "id": "26b91d12-a0a5-4475-ba91-718e6ac8413b",
   "metadata": {},
   "outputs": [],
   "source": [
    "import numpy as np\n",
    "import matplotlib.pyplot as plt\n",
    "\n",
    "# Define thresholds (for simplification)\n",
    "FCR_THRESHOLD = 0.02  # Frequency deviation (e.g., 50.02 Hz) for FCR activation\n",
    "AFRR_THRESHOLD = 0.05 # Frequency deviation (e.g., 50.05 Hz) for aFRR activation\n",
    "\n",
    "\n",
    "def bess_reserve_response(current_frequency, reference_frequency, max_capacity, current_soc):\n",
    "    \"\"\"\n",
    "    Simulates a simplified BESS response to grid frequency deviations \n",
    "    by providing FCR and aFRR services.\n",
    "    \n",
    "    Returns: The power output/input decision (Positive = Discharge, Negative = Charge)\n",
    "    \"\"\"\n",
    "\n",
    "    MAX_C_RATE = 0.5 * max_capacity # Maximum power to charge/discharge (0.5C)\n",
    "    \n",
    "    frequency_deviation = current_frequency - reference_frequency\n",
    "    power_output = 0 # Default is to hold\n",
    "\n",
    "    # --- 1. FCR (Fast, Primary Response) ---\n",
    "    if abs(frequency_deviation) > FCR_THRESHOLD:\n",
    "        # Simple linear response proportional to deviation\n",
    "        # Negative deviation (low frequency) -> Positive power needed (Discharge)\n",
    "        power_needed = -frequency_deviation * 500  # Scaling factor for power\n",
    "        power_output = max(min(power_needed, MAX_C_RATE), -MAX_C_RATE) # Clamp to max C-rate\n",
    "\n",
    "    # --- 2. aFRR (Slower, Secondary Response - Activated only if FCR is not sufficient/active) ---\n",
    "    elif abs(frequency_deviation) > AFRR_THRESHOLD:\n",
    "        # If frequency is LOW (deficit -> need POSITIVE reserve -> DISCHARGE)\n",
    "        if frequency_deviation < 0: \n",
    "            power_output = MAX_C_RATE * 0.5  # aFRR Positive\n",
    "            \n",
    "        # If frequency is HIGH (surplus -> need NEGATIVE reserve -> CHARGE)\n",
    "        elif frequency_deviation > 0:\n",
    "            power_output = -MAX_C_RATE * 0.5  # aFRR Negative\n",
    "\n",
    "    # --- 3. BESS State of Charge Constraint ---\n",
    "    # Constraints are simplified to prevent charging when full or discharging when empty\n",
    "    if power_output > 0 and current_soc <= 0.1: # Trying to discharge but battery is too low\n",
    "        power_output = 0\n",
    "    elif power_output < 0 and current_soc >= 0.9: # Trying to charge but battery is too full\n",
    "        power_output = 0\n",
    "\n",
    "    return power_output\n"
   ]
  },
  {
   "cell_type": "code",
   "execution_count": 14,
   "id": "855955ab-5cc9-49f7-90f0-6a2847ff8714",
   "metadata": {},
   "outputs": [],
   "source": [
    "# --- Setup Simulation Data ---\n",
    "MAX_CAPACITY = 100 # MWh\n",
    "REF_FREQ = 50.00\n",
    "INITIAL_SOC = 0.50 \n",
    "\n",
    "# Simulate a 30-minute period (30 steps, 1-minute resolution)\n",
    "time_steps = 45 \n",
    "time = np.arange(0, 0.5,time_steps) # Time in minutes"
   ]
  },
  {
   "cell_type": "code",
   "execution_count": 16,
   "id": "a86dfb4b-1c79-41da-9cc5-a19ffe93e57a",
   "metadata": {},
   "outputs": [],
   "source": [
    "# Create a challenging frequency signal with multiple events\n",
    "frequency_signals = np.full(time_steps, REF_FREQ)\n",
    "frequency_signals[5:10] = 49.97  # Event 1: Low Frequency (FCR positive response)\n",
    "frequency_signals[12:18] = 50.04 # Event 2: High Frequency (FCR negative response)\n",
    "frequency_signals[22:25] = 49.90 # Event 3: Significant Low Frequency (FCR and potential aFRR)"
   ]
  },
  {
   "cell_type": "code",
   "execution_count": 17,
   "id": "79731679-91fa-4651-8029-e6122e24ec7d",
   "metadata": {},
   "outputs": [],
   "source": [
    "# --- Run Simulation and Record Results ---\n",
    "soc_levels = [INITIAL_SOC]\n",
    "power_outputs = []\n",
    "current_soc = INITIAL_SOC\n",
    "\n",
    "for i in range(time_steps):\n",
    "    freq = frequency_signals[i]\n",
    "    \n",
    "    # Get BESS decision (Power is in MW, based on C-rate)\n",
    "    power = bess_reserve_response(freq, REF_FREQ, MAX_CAPACITY, current_soc)\n",
    "    power_outputs.append(power)\n",
    "    \n",
    "    # Update SOC (Energy change MWh = Power MW * Time hours)\n",
    "    energy_change_mwh = power * (1/60) \n",
    "    soc_change = energy_change_mwh / MAX_CAPACITY \n",
    "    current_soc += soc_change\n",
    "    \n",
    "    # Clamp SOC between 0 and 1\n",
    "    current_soc = np.clip(current_soc, 0, 1)\n",
    "    soc_levels.append(current_soc)"
   ]
  },
  {
   "cell_type": "code",
   "execution_count": null,
   "id": "ca19bfb5-6eff-4afa-ae79-88e8273847d4",
   "metadata": {},
   "outputs": [
    {
     "ename": "ValueError",
     "evalue": "x and y must have same first dimension, but have shapes (1,) and (45,)",
     "output_type": "error",
     "traceback": [
      "\u001b[31m---------------------------------------------------------------------------\u001b[39m",
      "\u001b[31mValueError\u001b[39m                                Traceback (most recent call last)",
      "\u001b[36mCell\u001b[39m\u001b[36m \u001b[39m\u001b[32mIn[18]\u001b[39m\u001b[32m, line 6\u001b[39m\n\u001b[32m      3\u001b[39m fig, (ax1, ax2) = plt.subplots(\u001b[32m2\u001b[39m, \u001b[32m1\u001b[39m, figsize=(\u001b[32m12\u001b[39m, \u001b[32m8\u001b[39m), sharex=\u001b[38;5;28;01mTrue\u001b[39;00m)\n\u001b[32m      5\u001b[39m \u001b[38;5;66;03m# 1. Frequency and BESS Response Plot\u001b[39;00m\n\u001b[32m----> \u001b[39m\u001b[32m6\u001b[39m \u001b[43max1\u001b[49m\u001b[43m.\u001b[49m\u001b[43mplot\u001b[49m\u001b[43m(\u001b[49m\u001b[43mtime\u001b[49m\u001b[43m,\u001b[49m\u001b[43m \u001b[49m\u001b[43mfrequency_signals\u001b[49m\u001b[43m,\u001b[49m\u001b[43m \u001b[49m\u001b[43mlabel\u001b[49m\u001b[43m=\u001b[49m\u001b[33;43m'\u001b[39;49m\u001b[33;43mGrid Frequency (Hz)\u001b[39;49m\u001b[33;43m'\u001b[39;49m\u001b[43m,\u001b[49m\u001b[43m \u001b[49m\u001b[43mcolor\u001b[49m\u001b[43m=\u001b[49m\u001b[33;43m'\u001b[39;49m\u001b[33;43mblue\u001b[39;49m\u001b[33;43m'\u001b[39;49m\u001b[43m)\u001b[49m\n\u001b[32m      7\u001b[39m ax1.axhline(REF_FREQ, color=\u001b[33m'\u001b[39m\u001b[33mblack\u001b[39m\u001b[33m'\u001b[39m, linestyle=\u001b[33m'\u001b[39m\u001b[33m--\u001b[39m\u001b[33m'\u001b[39m, label=\u001b[33mf\u001b[39m\u001b[33m'\u001b[39m\u001b[33mReference (\u001b[39m\u001b[38;5;132;01m{\u001b[39;00mREF_FREQ\u001b[38;5;132;01m}\u001b[39;00m\u001b[33m Hz)\u001b[39m\u001b[33m'\u001b[39m)\n\u001b[32m      8\u001b[39m ax1.axhline(REF_FREQ + FCR_THRESHOLD, color=\u001b[33m'\u001b[39m\u001b[33mred\u001b[39m\u001b[33m'\u001b[39m, linestyle=\u001b[33m'\u001b[39m\u001b[33m:\u001b[39m\u001b[33m'\u001b[39m, label=\u001b[33m'\u001b[39m\u001b[33mFCR Threshold\u001b[39m\u001b[33m'\u001b[39m)\n",
      "\u001b[36mFile \u001b[39m\u001b[32m~\\AppData\\Local\\Packages\\PythonSoftwareFoundation.Python.3.12_qbz5n2kfra8p0\\LocalCache\\local-packages\\Python312\\site-packages\\matplotlib\\axes\\_axes.py:1777\u001b[39m, in \u001b[36mAxes.plot\u001b[39m\u001b[34m(self, scalex, scaley, data, *args, **kwargs)\u001b[39m\n\u001b[32m   1534\u001b[39m \u001b[38;5;250m\u001b[39m\u001b[33;03m\"\"\"\u001b[39;00m\n\u001b[32m   1535\u001b[39m \u001b[33;03mPlot y versus x as lines and/or markers.\u001b[39;00m\n\u001b[32m   1536\u001b[39m \n\u001b[32m   (...)\u001b[39m\u001b[32m   1774\u001b[39m \u001b[33;03m(``'green'``) or hex strings (``'#008000'``).\u001b[39;00m\n\u001b[32m   1775\u001b[39m \u001b[33;03m\"\"\"\u001b[39;00m\n\u001b[32m   1776\u001b[39m kwargs = cbook.normalize_kwargs(kwargs, mlines.Line2D)\n\u001b[32m-> \u001b[39m\u001b[32m1777\u001b[39m lines = [*\u001b[38;5;28mself\u001b[39m._get_lines(\u001b[38;5;28mself\u001b[39m, *args, data=data, **kwargs)]\n\u001b[32m   1778\u001b[39m \u001b[38;5;28;01mfor\u001b[39;00m line \u001b[38;5;129;01min\u001b[39;00m lines:\n\u001b[32m   1779\u001b[39m     \u001b[38;5;28mself\u001b[39m.add_line(line)\n",
      "\u001b[36mFile \u001b[39m\u001b[32m~\\AppData\\Local\\Packages\\PythonSoftwareFoundation.Python.3.12_qbz5n2kfra8p0\\LocalCache\\local-packages\\Python312\\site-packages\\matplotlib\\axes\\_base.py:297\u001b[39m, in \u001b[36m_process_plot_var_args.__call__\u001b[39m\u001b[34m(self, axes, data, return_kwargs, *args, **kwargs)\u001b[39m\n\u001b[32m    295\u001b[39m     this += args[\u001b[32m0\u001b[39m],\n\u001b[32m    296\u001b[39m     args = args[\u001b[32m1\u001b[39m:]\n\u001b[32m--> \u001b[39m\u001b[32m297\u001b[39m \u001b[38;5;28;01myield from\u001b[39;00m \u001b[38;5;28;43mself\u001b[39;49m\u001b[43m.\u001b[49m\u001b[43m_plot_args\u001b[49m\u001b[43m(\u001b[49m\n\u001b[32m    298\u001b[39m \u001b[43m    \u001b[49m\u001b[43maxes\u001b[49m\u001b[43m,\u001b[49m\u001b[43m \u001b[49m\u001b[43mthis\u001b[49m\u001b[43m,\u001b[49m\u001b[43m \u001b[49m\u001b[43mkwargs\u001b[49m\u001b[43m,\u001b[49m\u001b[43m \u001b[49m\u001b[43mambiguous_fmt_datakey\u001b[49m\u001b[43m=\u001b[49m\u001b[43mambiguous_fmt_datakey\u001b[49m\u001b[43m,\u001b[49m\n\u001b[32m    299\u001b[39m \u001b[43m    \u001b[49m\u001b[43mreturn_kwargs\u001b[49m\u001b[43m=\u001b[49m\u001b[43mreturn_kwargs\u001b[49m\n\u001b[32m    300\u001b[39m \u001b[43m\u001b[49m\u001b[43m)\u001b[49m\n",
      "\u001b[36mFile \u001b[39m\u001b[32m~\\AppData\\Local\\Packages\\PythonSoftwareFoundation.Python.3.12_qbz5n2kfra8p0\\LocalCache\\local-packages\\Python312\\site-packages\\matplotlib\\axes\\_base.py:494\u001b[39m, in \u001b[36m_process_plot_var_args._plot_args\u001b[39m\u001b[34m(self, axes, tup, kwargs, return_kwargs, ambiguous_fmt_datakey)\u001b[39m\n\u001b[32m    491\u001b[39m     axes.yaxis.update_units(y)\n\u001b[32m    493\u001b[39m \u001b[38;5;28;01mif\u001b[39;00m x.shape[\u001b[32m0\u001b[39m] != y.shape[\u001b[32m0\u001b[39m]:\n\u001b[32m--> \u001b[39m\u001b[32m494\u001b[39m     \u001b[38;5;28;01mraise\u001b[39;00m \u001b[38;5;167;01mValueError\u001b[39;00m(\u001b[33mf\u001b[39m\u001b[33m\"\u001b[39m\u001b[33mx and y must have same first dimension, but \u001b[39m\u001b[33m\"\u001b[39m\n\u001b[32m    495\u001b[39m                      \u001b[33mf\u001b[39m\u001b[33m\"\u001b[39m\u001b[33mhave shapes \u001b[39m\u001b[38;5;132;01m{\u001b[39;00mx.shape\u001b[38;5;132;01m}\u001b[39;00m\u001b[33m and \u001b[39m\u001b[38;5;132;01m{\u001b[39;00my.shape\u001b[38;5;132;01m}\u001b[39;00m\u001b[33m\"\u001b[39m)\n\u001b[32m    496\u001b[39m \u001b[38;5;28;01mif\u001b[39;00m x.ndim > \u001b[32m2\u001b[39m \u001b[38;5;129;01mor\u001b[39;00m y.ndim > \u001b[32m2\u001b[39m:\n\u001b[32m    497\u001b[39m     \u001b[38;5;28;01mraise\u001b[39;00m \u001b[38;5;167;01mValueError\u001b[39;00m(\u001b[33mf\u001b[39m\u001b[33m\"\u001b[39m\u001b[33mx and y can be no greater than 2D, but have \u001b[39m\u001b[33m\"\u001b[39m\n\u001b[32m    498\u001b[39m                      \u001b[33mf\u001b[39m\u001b[33m\"\u001b[39m\u001b[33mshapes \u001b[39m\u001b[38;5;132;01m{\u001b[39;00mx.shape\u001b[38;5;132;01m}\u001b[39;00m\u001b[33m and \u001b[39m\u001b[38;5;132;01m{\u001b[39;00my.shape\u001b[38;5;132;01m}\u001b[39;00m\u001b[33m\"\u001b[39m)\n",
      "\u001b[31mValueError\u001b[39m: x and y must have same first dimension, but have shapes (1,) and (45,)"
     ]
    }
   ],
   "source": [
    "# --- Plotting Code ---\n",
    "\n",
    "fig, (ax1, ax2) = plt.subplots(2, 1, figsize=(12, 8), sharex=True)\n",
    "\n",
    "# 1. Frequency and BESS Response Plot\n",
    "ax1.plot(time, frequency_signals, label='Grid Frequency (Hz)', color='blue')\n",
    "ax1.axhline(REF_FREQ, color='black', linestyle='--', label=f'Reference ({REF_FREQ} Hz)')\n",
    "ax1.axhline(REF_FREQ + FCR_THRESHOLD, color='red', linestyle=':', label='FCR Threshold')\n",
    "ax1.axhline(REF_FREQ - FCR_THRESHOLD, color='red', linestyle=':')\n",
    "ax1.set_ylabel('Frequency (Hz)')\n",
    "ax1.set_title('BESS Frequency Response Simulation (FCR/aFRR)')\n",
    "ax1_twin = ax1.twinx()\n",
    "ax1_twin.step(time, power_outputs, where='mid', color='green', linestyle='-', label='BESS Power Output (MW)')\n",
    "ax1_twin.set_ylabel('BESS Power (MW) [Discharge (+)/Charge (-)]', color='green')\n",
    "ax1_twin.tick_params(axis='y', labelcolor='green')\n",
    "ax1.legend(loc='upper left')\n",
    "ax1_twin.legend(loc='upper right')\n",
    "ax1.grid(True)\n",
    "\n",
    "# 2. State of Charge (SOC) Plot\n",
    "# The SOC array has one extra point (initial state), so use up to time_steps for X-axis\n",
    "ax2.plot(np.arange(0, time_steps + 1), soc_levels, marker='.', linestyle='-', color='purple')\n",
    "ax2.set_ylabel('State of Charge (SOC) (%)')\n",
    "ax2.set_xlabel('Time (Minutes)')\n",
    "ax2.axhline(1.0, color='red', linestyle='--', label='100% (Full)')\n",
    "ax2.axhline(0.0, color='red', linestyle=':', label='0% (Empty)')\n",
    "ax2.set_yticks(np.arange(0, 1.1, 0.2))\n",
    "ax2.set_yticklabels([f'{int(s*100)}%' for s in np.arange(0, 1.1, 0.2)])\n",
    "ax2.legend()\n",
    "ax2.grid(True)\n",
    "\n",
    "plt.tight_layout()\n",
    "plt.savefig('bess_frequency_response_plots.png')"
   ]
  }
 ],
 "metadata": {
  "kernelspec": {
   "display_name": "Python 3 (ipykernel)",
   "language": "python",
   "name": "python3"
  },
  "language_info": {
   "codemirror_mode": {
    "name": "ipython",
    "version": 3
   },
   "file_extension": ".py",
   "mimetype": "text/x-python",
   "name": "python",
   "nbconvert_exporter": "python",
   "pygments_lexer": "ipython3",
   "version": "3.12.10"
  }
 },
 "nbformat": 4,
 "nbformat_minor": 5
}
